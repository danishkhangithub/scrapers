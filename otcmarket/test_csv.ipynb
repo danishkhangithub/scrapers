{
 "cells": [
  {
   "cell_type": "code",
   "execution_count": 1,
   "id": "bigger-regulation",
   "metadata": {},
   "outputs": [],
   "source": [
    "import pandas as pd"
   ]
  },
  {
   "cell_type": "code",
   "execution_count": 2,
   "id": "periodic-assault",
   "metadata": {},
   "outputs": [
    {
     "data": {
      "text/html": [
       "<div>\n",
       "<style scoped>\n",
       "    .dataframe tbody tr th:only-of-type {\n",
       "        vertical-align: middle;\n",
       "    }\n",
       "\n",
       "    .dataframe tbody tr th {\n",
       "        vertical-align: top;\n",
       "    }\n",
       "\n",
       "    .dataframe thead th {\n",
       "        text-align: right;\n",
       "    }\n",
       "</style>\n",
       "<table border=\"1\" class=\"dataframe\">\n",
       "  <thead>\n",
       "    <tr style=\"text-align: right;\">\n",
       "      <th></th>\n",
       "      <th>Open</th>\n",
       "      <th>Daily Range</th>\n",
       "      <th>Volume</th>\n",
       "      <th>Dividend</th>\n",
       "      <th>Prev Close</th>\n",
       "      <th>52WK Range</th>\n",
       "      <th>Average Vol (30D)</th>\n",
       "      <th>Net Dividend Yield</th>\n",
       "      <th>Best Bid</th>\n",
       "      <th>Best Ask</th>\n",
       "      <th>Market Cap</th>\n",
       "      <th></th>\n",
       "    </tr>\n",
       "  </thead>\n",
       "  <tbody>\n",
       "    <tr>\n",
       "      <th>0</th>\n",
       "      <td>1.06</td>\n",
       "      <td>1.06 - 1.24</td>\n",
       "      <td>18,455</td>\n",
       "      <td>NaN</td>\n",
       "      <td>1.06</td>\n",
       "      <td>0.685 - 2.75</td>\n",
       "      <td>19,813</td>\n",
       "      <td>NaN</td>\n",
       "      <td>1.16</td>\n",
       "      <td>1.25</td>\n",
       "      <td>31,234,040</td>\n",
       "      <td>25,188,742</td>\n",
       "    </tr>\n",
       "  </tbody>\n",
       "</table>\n",
       "</div>"
      ],
      "text/plain": [
       "   Open  Daily Range  Volume  Dividend  Prev Close    52WK Range  \\\n",
       "0  1.06  1.06 - 1.24  18,455       NaN        1.06  0.685 - 2.75   \n",
       "\n",
       "  Average Vol (30D)  Net Dividend Yield  Best Bid  Best Ask Market Cap   \\\n",
       "0            19,813                 NaN      1.16      1.25  31,234,040   \n",
       "\n",
       "               \n",
       "0  25,188,742  "
      ]
     },
     "execution_count": 2,
     "metadata": {},
     "output_type": "execute_result"
    }
   ],
   "source": [
    "data = pd.read_csv('quotes.csv')\n",
    "data"
   ]
  },
  {
   "cell_type": "code",
   "execution_count": 3,
   "id": "official-automation",
   "metadata": {},
   "outputs": [
    {
     "data": {
      "text/plain": [
       "' '"
      ]
     },
     "execution_count": 3,
     "metadata": {},
     "output_type": "execute_result"
    }
   ],
   "source": [
    "data.columns[11]"
   ]
  },
  {
   "cell_type": "code",
   "execution_count": 4,
   "id": "supposed-portfolio",
   "metadata": {},
   "outputs": [],
   "source": [
    "data.columns = data.columns[:11].tolist()  + ['SHARES OUT']"
   ]
  },
  {
   "cell_type": "code",
   "execution_count": 5,
   "id": "integral-bronze",
   "metadata": {},
   "outputs": [
    {
     "data": {
      "text/html": [
       "<div>\n",
       "<style scoped>\n",
       "    .dataframe tbody tr th:only-of-type {\n",
       "        vertical-align: middle;\n",
       "    }\n",
       "\n",
       "    .dataframe tbody tr th {\n",
       "        vertical-align: top;\n",
       "    }\n",
       "\n",
       "    .dataframe thead th {\n",
       "        text-align: right;\n",
       "    }\n",
       "</style>\n",
       "<table border=\"1\" class=\"dataframe\">\n",
       "  <thead>\n",
       "    <tr style=\"text-align: right;\">\n",
       "      <th></th>\n",
       "      <th>Open</th>\n",
       "      <th>Daily Range</th>\n",
       "      <th>Volume</th>\n",
       "      <th>Dividend</th>\n",
       "      <th>Prev Close</th>\n",
       "      <th>52WK Range</th>\n",
       "      <th>Average Vol (30D)</th>\n",
       "      <th>Net Dividend Yield</th>\n",
       "      <th>Best Bid</th>\n",
       "      <th>Best Ask</th>\n",
       "      <th>Market Cap</th>\n",
       "      <th>SHARES OUT</th>\n",
       "    </tr>\n",
       "  </thead>\n",
       "  <tbody>\n",
       "    <tr>\n",
       "      <th>0</th>\n",
       "      <td>1.06</td>\n",
       "      <td>1.06 - 1.24</td>\n",
       "      <td>18,455</td>\n",
       "      <td>NaN</td>\n",
       "      <td>1.06</td>\n",
       "      <td>0.685 - 2.75</td>\n",
       "      <td>19,813</td>\n",
       "      <td>NaN</td>\n",
       "      <td>1.16</td>\n",
       "      <td>1.25</td>\n",
       "      <td>31,234,040</td>\n",
       "      <td>25,188,742</td>\n",
       "    </tr>\n",
       "  </tbody>\n",
       "</table>\n",
       "</div>"
      ],
      "text/plain": [
       "   Open  Daily Range  Volume  Dividend  Prev Close    52WK Range  \\\n",
       "0  1.06  1.06 - 1.24  18,455       NaN        1.06  0.685 - 2.75   \n",
       "\n",
       "  Average Vol (30D)  Net Dividend Yield  Best Bid  Best Ask Market Cap   \\\n",
       "0            19,813                 NaN      1.16      1.25  31,234,040   \n",
       "\n",
       "   SHARES OUT  \n",
       "0  25,188,742  "
      ]
     },
     "execution_count": 5,
     "metadata": {},
     "output_type": "execute_result"
    }
   ],
   "source": [
    "data"
   ]
  },
  {
   "cell_type": "code",
   "execution_count": null,
   "id": "appointed-combine",
   "metadata": {},
   "outputs": [],
   "source": []
  },
  {
   "cell_type": "code",
   "execution_count": 6,
   "id": "wireless-grass",
   "metadata": {},
   "outputs": [],
   "source": [
    "data.to_csv('quotes.csv', index = False)"
   ]
  },
  {
   "cell_type": "code",
   "execution_count": 7,
   "id": "inappropriate-mailing",
   "metadata": {},
   "outputs": [],
   "source": [
    "data = pd.read_csv('quotes.csv')"
   ]
  },
  {
   "cell_type": "code",
   "execution_count": 8,
   "id": "southwest-spain",
   "metadata": {},
   "outputs": [
    {
     "data": {
      "text/html": [
       "<div>\n",
       "<style scoped>\n",
       "    .dataframe tbody tr th:only-of-type {\n",
       "        vertical-align: middle;\n",
       "    }\n",
       "\n",
       "    .dataframe tbody tr th {\n",
       "        vertical-align: top;\n",
       "    }\n",
       "\n",
       "    .dataframe thead th {\n",
       "        text-align: right;\n",
       "    }\n",
       "</style>\n",
       "<table border=\"1\" class=\"dataframe\">\n",
       "  <thead>\n",
       "    <tr style=\"text-align: right;\">\n",
       "      <th></th>\n",
       "      <th>Open</th>\n",
       "      <th>Daily Range</th>\n",
       "      <th>Volume</th>\n",
       "      <th>Dividend</th>\n",
       "      <th>Prev Close</th>\n",
       "      <th>52WK Range</th>\n",
       "      <th>Average Vol (30D)</th>\n",
       "      <th>Net Dividend Yield</th>\n",
       "      <th>Best Bid</th>\n",
       "      <th>Best Ask</th>\n",
       "      <th>Market Cap</th>\n",
       "      <th>SHARES OUT</th>\n",
       "    </tr>\n",
       "  </thead>\n",
       "  <tbody>\n",
       "    <tr>\n",
       "      <th>0</th>\n",
       "      <td>1.06</td>\n",
       "      <td>1.06 - 1.24</td>\n",
       "      <td>18,455</td>\n",
       "      <td>NaN</td>\n",
       "      <td>1.06</td>\n",
       "      <td>0.685 - 2.75</td>\n",
       "      <td>19,813</td>\n",
       "      <td>NaN</td>\n",
       "      <td>1.16</td>\n",
       "      <td>1.25</td>\n",
       "      <td>31,234,040</td>\n",
       "      <td>25,188,742</td>\n",
       "    </tr>\n",
       "  </tbody>\n",
       "</table>\n",
       "</div>"
      ],
      "text/plain": [
       "   Open  Daily Range  Volume  Dividend  Prev Close    52WK Range  \\\n",
       "0  1.06  1.06 - 1.24  18,455       NaN        1.06  0.685 - 2.75   \n",
       "\n",
       "  Average Vol (30D)  Net Dividend Yield  Best Bid  Best Ask Market Cap   \\\n",
       "0            19,813                 NaN      1.16      1.25  31,234,040   \n",
       "\n",
       "   SHARES OUT  \n",
       "0  25,188,742  "
      ]
     },
     "execution_count": 8,
     "metadata": {},
     "output_type": "execute_result"
    }
   ],
   "source": [
    "data"
   ]
  },
  {
   "cell_type": "code",
   "execution_count": 49,
   "id": "driving-shame",
   "metadata": {},
   "outputs": [
    {
     "data": {
      "text/plain": [
       "{'area': 'new-hillss', 'rainfall': 100, 'temperature': 20}"
      ]
     },
     "execution_count": 49,
     "metadata": {},
     "output_type": "execute_result"
    }
   ],
   "source": [
    "{'area': 'new-hills', 'rainfall': 100, 'temperature': 20},\n",
    "{'area': 'new-hillss', 'rainfall': 100, 'temperature': 20}\n"
   ]
  },
  {
   "cell_type": "code",
   "execution_count": 52,
   "id": "tutorial-venture",
   "metadata": {},
   "outputs": [
    {
     "ename": "TypeError",
     "evalue": "append() takes exactly one argument (0 given)",
     "output_type": "error",
     "traceback": [
      "\u001b[0;31m---------------------------------------------------------------------------\u001b[0m",
      "\u001b[0;31mTypeError\u001b[0m                                 Traceback (most recent call last)",
      "\u001b[0;32m<ipython-input-52-26f83e157671>\u001b[0m in \u001b[0;36m<module>\u001b[0;34m\u001b[0m\n\u001b[1;32m      1\u001b[0m result = [{'area': 'new-hills', 'rainfall': 100, 'temperature': 20},\n\u001b[1;32m      2\u001b[0m {'area': 'new-hillss', 'rainfall': 100, 'temperature': 2}]\n\u001b[0;32m----> 3\u001b[0;31m \u001b[0mresult\u001b[0m\u001b[0;34m.\u001b[0m\u001b[0mappend\u001b[0m\u001b[0;34m(\u001b[0m\u001b[0;34m)\u001b[0m\u001b[0;34m\u001b[0m\u001b[0;34m\u001b[0m\u001b[0m\n\u001b[0m",
      "\u001b[0;31mTypeError\u001b[0m: append() takes exactly one argument (0 given)"
     ]
    }
   ],
   "source": [
    "result = [{'area': 'new-hills', 'rainfall': 100, 'temperature': 20},\n",
    "{'area': 'new-hillss', 'rainfall': 100, 'temperature': 2}]\n",
    "result.append()"
   ]
  },
  {
   "cell_type": "code",
   "execution_count": 53,
   "id": "frank-islam",
   "metadata": {},
   "outputs": [
    {
     "data": {
      "text/plain": [
       "[{'area': 'new-hills', 'rainfall': 100, 'temperature': 20},\n",
       " {'area': 'new-hillss', 'rainfall': 100, 'temperature': 2}]"
      ]
     },
     "execution_count": 53,
     "metadata": {},
     "output_type": "execute_result"
    }
   ],
   "source": [
    "result"
   ]
  },
  {
   "cell_type": "code",
   "execution_count": 54,
   "id": "smooth-soviet",
   "metadata": {},
   "outputs": [
    {
     "data": {
      "text/html": [
       "<div>\n",
       "<style scoped>\n",
       "    .dataframe tbody tr th:only-of-type {\n",
       "        vertical-align: middle;\n",
       "    }\n",
       "\n",
       "    .dataframe tbody tr th {\n",
       "        vertical-align: top;\n",
       "    }\n",
       "\n",
       "    .dataframe thead th {\n",
       "        text-align: right;\n",
       "    }\n",
       "</style>\n",
       "<table border=\"1\" class=\"dataframe\">\n",
       "  <thead>\n",
       "    <tr style=\"text-align: right;\">\n",
       "      <th></th>\n",
       "      <th>area</th>\n",
       "      <th>rainfall</th>\n",
       "      <th>temperature</th>\n",
       "    </tr>\n",
       "  </thead>\n",
       "  <tbody>\n",
       "    <tr>\n",
       "      <th>0</th>\n",
       "      <td>new-hills</td>\n",
       "      <td>100</td>\n",
       "      <td>20</td>\n",
       "    </tr>\n",
       "  </tbody>\n",
       "</table>\n",
       "</div>"
      ],
      "text/plain": [
       "        area  rainfall  temperature\n",
       "0  new-hills       100           20"
      ]
     },
     "execution_count": 54,
     "metadata": {},
     "output_type": "execute_result"
    }
   ],
   "source": [
    "data = pd.DataFrame(dictt,index = [0])\n",
    "data    "
   ]
  },
  {
   "cell_type": "code",
   "execution_count": null,
   "id": "responsible-sierra",
   "metadata": {},
   "outputs": [],
   "source": []
  },
  {
   "cell_type": "code",
   "execution_count": null,
   "id": "constant-greensboro",
   "metadata": {},
   "outputs": [],
   "source": []
  }
 ],
 "metadata": {
  "kernelspec": {
   "display_name": "Python 3",
   "language": "python",
   "name": "python3"
  },
  "language_info": {
   "codemirror_mode": {
    "name": "ipython",
    "version": 3
   },
   "file_extension": ".py",
   "mimetype": "text/x-python",
   "name": "python",
   "nbconvert_exporter": "python",
   "pygments_lexer": "ipython3",
   "version": "3.8.10"
  }
 },
 "nbformat": 4,
 "nbformat_minor": 5
}
